{
 "cells": [
  {
   "cell_type": "code",
   "execution_count": 253,
   "metadata": {},
   "outputs": [],
   "source": [
    "import datetime\n",
    "import pandas as pd\n",
    "import numpy as np\n",
    "import seaborn as sns\n",
    "import matplotlib.pyplot as plt\n",
    "%matplotlib inline"
   ]
  },
  {
   "cell_type": "code",
   "execution_count": 171,
   "metadata": {},
   "outputs": [],
   "source": [
    "df=pd.read_csv(\"HW1 clv_transactions.csv\")"
   ]
  },
  {
   "cell_type": "code",
   "execution_count": 172,
   "metadata": {},
   "outputs": [],
   "source": [
    "df_copy=df.copy(deep=True)"
   ]
  },
  {
   "cell_type": "markdown",
   "metadata": {},
   "source": [
    "## Step 1: Understand the dataset"
   ]
  },
  {
   "cell_type": "markdown",
   "metadata": {},
   "source": [
    "### 1. Missing Values in the Dataset"
   ]
  },
  {
   "cell_type": "code",
   "execution_count": 173,
   "metadata": {},
   "outputs": [
    {
     "data": {
      "text/plain": [
       "<seaborn.axisgrid.FacetGrid at 0x20f9cf73850>"
      ]
     },
     "execution_count": 173,
     "metadata": {},
     "output_type": "execute_result"
    },
    {
     "data": {
      "text/plain": [
       "<Figure size 720x432 with 0 Axes>"
      ]
     },
     "metadata": {},
     "output_type": "display_data"
    },
    {
     "data": {
      "image/png": "[encoded data removed]",
      "text/plain": [
       "<Figure size 511.25x360 with 1 Axes>"
      ]
     },
     "metadata": {
      "needs_background": "light"
     },
     "output_type": "display_data"
    }
   ],
   "source": [
    "plt.figure(figsize=(10,6))\n",
    "sns.displot(\n",
    "    data=df.isna().melt(value_name=\"missing\"),\n",
    "    y=\"variable\",\n",
    "    hue=\"missing\",\n",
    "    multiple=\"fill\",\n",
    "    aspect=1.25)"
   ]
  },
  {
   "cell_type": "code",
   "execution_count": 174,
   "metadata": {},
   "outputs": [
    {
     "name": "stdout",
     "output_type": "stream",
     "text": [
      "0\n",
      "0\n",
      "0\n",
      "0\n",
      "Hence, there are no missing values in the dataset\n"
     ]
    }
   ],
   "source": [
    "print(sum(df.isna()[\"TransactionID\"]))\n",
    "print(sum(df.isna()[\"TransactionDate\"]))\n",
    "print(sum(df.isna()[\"CustomerID\"]))\n",
    "print(sum(df.isna()[\"Amount\"]))\n",
    "print(\"Hence, there are no missing values in the dataset\")"
   ]
  },
  {
   "cell_type": "markdown",
   "metadata": {},
   "source": [
    "### 2. Range of dates"
   ]
  },
  {
   "cell_type": "code",
   "execution_count": 177,
   "metadata": {},
   "outputs": [],
   "source": [
    "df_copy[\"TransactionDate\"]=pd.to_datetime(df_copy[\"TransactionDate\"])\n",
    "for i in range(len(df)):\n",
    "    df[\"TransactionDate\"].iloc[i]=df_copy[\"TransactionDate\"].iloc[i].date()"
   ]
  },
  {
   "cell_type": "code",
   "execution_count": 176,
   "metadata": {},
   "outputs": [
    {
     "name": "stdout",
     "output_type": "stream",
     "text": [
      "The range of dates is: 2010-01-04 to 2015-12-31\n"
     ]
    }
   ],
   "source": [
    "print(\"The range of dates is:\",df[\"TransactionDate\"].min(),\"to\",df[\"TransactionDate\"].max())"
   ]
  },
  {
   "cell_type": "markdown",
   "metadata": {},
   "source": [
    "### 3. Unique Customers in Dataset"
   ]
  },
  {
   "cell_type": "code",
   "execution_count": 178,
   "metadata": {},
   "outputs": [
    {
     "name": "stdout",
     "output_type": "stream",
     "text": [
      "There are 1000 unique customers in the dataset\n"
     ]
    }
   ],
   "source": [
    "print(\"There are\",len(df[\"CustomerID\"].value_counts()),\"unique customers in the dataset\")"
   ]
  },
  {
   "cell_type": "markdown",
   "metadata": {},
   "source": [
    "### 4.  Standard descriptive statistics for the Amount field"
   ]
  },
  {
   "cell_type": "code",
   "execution_count": 179,
   "metadata": {},
   "outputs": [
    {
     "data": {
      "text/plain": [
       "count    4186.000000\n",
       "mean        9.028082\n",
       "std        38.723909\n",
       "min        -1.000000\n",
       "25%         3.310000\n",
       "50%         6.885000\n",
       "75%        11.690000\n",
       "max      2033.000000\n",
       "Name: Amount, dtype: float64"
      ]
     },
     "execution_count": 179,
     "metadata": {},
     "output_type": "execute_result"
    }
   ],
   "source": [
    "df[\"Amount\"].describe()"
   ]
  },
  {
   "cell_type": "code",
   "execution_count": 180,
   "metadata": {},
   "outputs": [
    {
     "name": "stdout",
     "output_type": "stream",
     "text": [
      "The minimum transaction amount is: -1.0\n",
      "The maximum transaction amount is: 2033.0\n",
      "The variance of the Amount is: 1499.54\n",
      "The standard deviation of the Amount is: 38.72\n"
     ]
    }
   ],
   "source": [
    "print(\"The minimum transaction amount is:\",df[\"Amount\"].min())\n",
    "print(\"The maximum transaction amount is:\",df[\"Amount\"].max())\n",
    "print(\"The variance of the Amount is:\",\"{:.2f}\".format(df[\"Amount\"].var()))\n",
    "print(\"The standard deviation of the Amount is:\",\"{:.2f}\".format(df[\"Amount\"].std()))"
   ]
  },
  {
   "cell_type": "markdown",
   "metadata": {},
   "source": [
    "### 5. Transaction Amount over time"
   ]
  },
  {
   "cell_type": "code",
   "execution_count": 181,
   "metadata": {},
   "outputs": [
    {
     "data": {
      "text/plain": [
       "<AxesSubplot:xlabel='TransactionDate', ylabel='Amount'>"
      ]
     },
     "execution_count": 181,
     "metadata": {},
     "output_type": "execute_result"
    },
    {
     "data": {
      "image/png": "[encoded data removed]",
      "text/plain": [
       "<Figure size 432x288 with 1 Axes>"
      ]
     },
     "metadata": {
      "needs_background": "light"
     },
     "output_type": "display_data"
    }
   ],
   "source": [
    "sns.lineplot(data=df,x=\"TransactionDate\",y=\"Amount\")"
   ]
  },
  {
   "cell_type": "markdown",
   "metadata": {},
   "source": [
    "### The lineplot above is not very indicative of any trend. Perhaps the presence of outliers/extortionate transaction values in 2011, 2012 and 2014 is masking the underlying trend. Analysing further, we can find the median transaction value for each year."
   ]
  },
  {
   "cell_type": "code",
   "execution_count": 182,
   "metadata": {},
   "outputs": [
    {
     "data": {
      "text/plain": [
       "TransactionYear\n",
       "2010    7.89\n",
       "2011    6.79\n",
       "2012    7.13\n",
       "2013    7.26\n",
       "2014    6.45\n",
       "2015    6.68\n",
       "Name: Amount, dtype: float64"
      ]
     },
     "execution_count": 182,
     "metadata": {},
     "output_type": "execute_result"
    }
   ],
   "source": [
    "TransactionYear=[]\n",
    "for i,date in enumerate(df[\"TransactionDate\"]):\n",
    "    TransactionYear.append(df[\"TransactionDate\"][i].year)\n",
    "    \n",
    "df[\"TransactionYear\"]=TransactionYear\n",
    "df.groupby([\"TransactionYear\"])[\"Amount\"].median()"
   ]
  },
  {
   "cell_type": "code",
   "execution_count": 183,
   "metadata": {},
   "outputs": [
    {
     "data": {
      "text/plain": [
       "<AxesSubplot:xlabel='TransactionYear'>"
      ]
     },
     "execution_count": 183,
     "metadata": {},
     "output_type": "execute_result"
    },
    {
     "data": {
      "image/png": "[encoded data removed]",
      "text/plain": [
       "<Figure size 432x288 with 1 Axes>"
      ]
     },
     "metadata": {
      "needs_background": "light"
     },
     "output_type": "display_data"
    }
   ],
   "source": [
    "df.groupby([\"TransactionYear\"])[\"Amount\"].median().plot(legend=True)"
   ]
  },
  {
   "cell_type": "markdown",
   "metadata": {},
   "source": [
    "### Transaction amounts do not seem to be increasing over time. I would conclude that there is no particular trend."
   ]
  },
  {
   "cell_type": "markdown",
   "metadata": {},
   "source": [
    "## Step 2: Explore the dataset"
   ]
  },
  {
   "cell_type": "code",
   "execution_count": 154,
   "metadata": {},
   "outputs": [
    {
     "data": {
      "text/plain": [
       "Text(0, 0.5, 'Frequency')"
      ]
     },
     "execution_count": 154,
     "metadata": {},
     "output_type": "execute_result"
    },
    {
     "data": {
      "image/png": "[encoded data removed]",
      "text/plain": [
       "<Figure size 432x288 with 1 Axes>"
      ]
     },
     "metadata": {
      "needs_background": "light"
     },
     "output_type": "display_data"
    }
   ],
   "source": [
    "df[\"Amount\"].hist(bins=5).plot()\n",
    "plt.xlabel(\"Amount Value (in $)\", labelpad=20, weight='bold', size=10)\n",
    "\n",
    "plt.ylabel(\"Frequency\", labelpad=20, weight='bold', size=10)"
   ]
  },
  {
   "cell_type": "markdown",
   "metadata": {},
   "source": [
    "#### Now, magnifying to the outlier values - "
   ]
  },
  {
   "cell_type": "code",
   "execution_count": 159,
   "metadata": {},
   "outputs": [
    {
     "data": {
      "text/plain": [
       "Text(0, 0.5, 'Frequency')"
      ]
     },
     "execution_count": 159,
     "metadata": {},
     "output_type": "execute_result"
    },
    {
     "data": {
      "image/png": "[encoded data removed]",
      "text/plain": [
       "<Figure size 432x288 with 1 Axes>"
      ]
     },
     "metadata": {
      "needs_background": "light"
     },
     "output_type": "display_data"
    }
   ],
   "source": [
    "plt.hist(df['Amount'], 50, range=[1000, 2200], facecolor='red', align='mid')\n",
    "plt.xlabel(\"Amount Value (in $)\", labelpad=20, weight='bold', size=10)\n",
    "\n",
    "plt.ylabel(\"Frequency\", labelpad=20, weight='bold', size=10)"
   ]
  },
  {
   "cell_type": "markdown",
   "metadata": {},
   "source": [
    "#### Looking at the top 10 transaction amounts in our dataset:"
   ]
  },
  {
   "cell_type": "code",
   "execution_count": 131,
   "metadata": {},
   "outputs": [
    {
     "data": {
      "text/html": [
       "<div>\n",
       "<style scoped>\n",
       "    .dataframe tbody tr th:only-of-type {\n",
       "        vertical-align: middle;\n",
       "    }\n",
       "\n",
       "    .dataframe tbody tr th {\n",
       "        vertical-align: top;\n",
       "    }\n",
       "\n",
       "    .dataframe thead th {\n",
       "        text-align: right;\n",
       "    }\n",
       "</style>\n",
       "<table border=\"1\" class=\"dataframe\">\n",
       "  <thead>\n",
       "    <tr style=\"text-align: right;\">\n",
       "      <th></th>\n",
       "      <th>TransactionID</th>\n",
       "      <th>TransactionDate</th>\n",
       "      <th>CustomerID</th>\n",
       "      <th>Amount</th>\n",
       "      <th>TransactionYear</th>\n",
       "    </tr>\n",
       "  </thead>\n",
       "  <tbody>\n",
       "    <tr>\n",
       "      <th>4177</th>\n",
       "      <td>4178</td>\n",
       "      <td>2012-08-13</td>\n",
       "      <td>1000</td>\n",
       "      <td>2033.00</td>\n",
       "      <td>2012</td>\n",
       "    </tr>\n",
       "    <tr>\n",
       "      <th>211</th>\n",
       "      <td>212</td>\n",
       "      <td>2014-05-14</td>\n",
       "      <td>54</td>\n",
       "      <td>1027.00</td>\n",
       "      <td>2014</td>\n",
       "    </tr>\n",
       "    <tr>\n",
       "      <th>23</th>\n",
       "      <td>24</td>\n",
       "      <td>2011-10-07</td>\n",
       "      <td>7</td>\n",
       "      <td>1003.00</td>\n",
       "      <td>2011</td>\n",
       "    </tr>\n",
       "    <tr>\n",
       "      <th>2760</th>\n",
       "      <td>2761</td>\n",
       "      <td>2013-08-31</td>\n",
       "      <td>691</td>\n",
       "      <td>38.35</td>\n",
       "      <td>2013</td>\n",
       "    </tr>\n",
       "    <tr>\n",
       "      <th>263</th>\n",
       "      <td>264</td>\n",
       "      <td>2012-06-21</td>\n",
       "      <td>69</td>\n",
       "      <td>38.29</td>\n",
       "      <td>2012</td>\n",
       "    </tr>\n",
       "    <tr>\n",
       "      <th>54</th>\n",
       "      <td>55</td>\n",
       "      <td>2015-01-29</td>\n",
       "      <td>13</td>\n",
       "      <td>37.27</td>\n",
       "      <td>2015</td>\n",
       "    </tr>\n",
       "    <tr>\n",
       "      <th>2490</th>\n",
       "      <td>2491</td>\n",
       "      <td>2011-07-13</td>\n",
       "      <td>632</td>\n",
       "      <td>36.94</td>\n",
       "      <td>2011</td>\n",
       "    </tr>\n",
       "    <tr>\n",
       "      <th>2273</th>\n",
       "      <td>2274</td>\n",
       "      <td>2013-04-13</td>\n",
       "      <td>573</td>\n",
       "      <td>32.81</td>\n",
       "      <td>2013</td>\n",
       "    </tr>\n",
       "    <tr>\n",
       "      <th>2644</th>\n",
       "      <td>2645</td>\n",
       "      <td>2011-05-16</td>\n",
       "      <td>663</td>\n",
       "      <td>31.40</td>\n",
       "      <td>2011</td>\n",
       "    </tr>\n",
       "    <tr>\n",
       "      <th>585</th>\n",
       "      <td>586</td>\n",
       "      <td>2013-03-16</td>\n",
       "      <td>145</td>\n",
       "      <td>30.43</td>\n",
       "      <td>2013</td>\n",
       "    </tr>\n",
       "  </tbody>\n",
       "</table>\n",
       "</div>"
      ],
      "text/plain": [
       "      TransactionID TransactionDate  CustomerID   Amount  TransactionYear\n",
       "4177           4178      2012-08-13        1000  2033.00             2012\n",
       "211             212      2014-05-14          54  1027.00             2014\n",
       "23               24      2011-10-07           7  1003.00             2011\n",
       "2760           2761      2013-08-31         691    38.35             2013\n",
       "263             264      2012-06-21          69    38.29             2012\n",
       "54               55      2015-01-29          13    37.27             2015\n",
       "2490           2491      2011-07-13         632    36.94             2011\n",
       "2273           2274      2013-04-13         573    32.81             2013\n",
       "2644           2645      2011-05-16         663    31.40             2011\n",
       "585             586      2013-03-16         145    30.43             2013"
      ]
     },
     "execution_count": 131,
     "metadata": {},
     "output_type": "execute_result"
    }
   ],
   "source": [
    "df.nlargest(10,\"Amount\")"
   ]
  },
  {
   "cell_type": "markdown",
   "metadata": {},
   "source": [
    "#### The top 3 transactions could either be possible errors in data entry or legitimate but rare transactions. If they are rare, legitimate transactions, with a high likelihood of occuring again in the future, we could have either kept the transaction or capped its value at a reasonable rate like 500 dollars. However, looking at the data, it doesn't seem like the transactions will repeat, hence, it makes sense to remove them entirely."
   ]
  },
  {
   "cell_type": "code",
   "execution_count": 160,
   "metadata": {},
   "outputs": [
    {
     "data": {
      "text/html": [
       "<div>\n",
       "<style scoped>\n",
       "    .dataframe tbody tr th:only-of-type {\n",
       "        vertical-align: middle;\n",
       "    }\n",
       "\n",
       "    .dataframe tbody tr th {\n",
       "        vertical-align: top;\n",
       "    }\n",
       "\n",
       "    .dataframe thead th {\n",
       "        text-align: right;\n",
       "    }\n",
       "</style>\n",
       "<table border=\"1\" class=\"dataframe\">\n",
       "  <thead>\n",
       "    <tr style=\"text-align: right;\">\n",
       "      <th></th>\n",
       "      <th>TransactionID</th>\n",
       "      <th>TransactionDate</th>\n",
       "      <th>CustomerID</th>\n",
       "      <th>Amount</th>\n",
       "    </tr>\n",
       "  </thead>\n",
       "  <tbody>\n",
       "    <tr>\n",
       "      <th>49</th>\n",
       "      <td>50</td>\n",
       "      <td>2012-05-12</td>\n",
       "      <td>13</td>\n",
       "      <td>-1.00</td>\n",
       "    </tr>\n",
       "    <tr>\n",
       "      <th>3326</th>\n",
       "      <td>3327</td>\n",
       "      <td>2014-01-16</td>\n",
       "      <td>811</td>\n",
       "      <td>-1.00</td>\n",
       "    </tr>\n",
       "    <tr>\n",
       "      <th>2175</th>\n",
       "      <td>2176</td>\n",
       "      <td>2015-03-11</td>\n",
       "      <td>544</td>\n",
       "      <td>0.01</td>\n",
       "    </tr>\n",
       "    <tr>\n",
       "      <th>2511</th>\n",
       "      <td>2512</td>\n",
       "      <td>2013-02-07</td>\n",
       "      <td>636</td>\n",
       "      <td>0.01</td>\n",
       "    </tr>\n",
       "    <tr>\n",
       "      <th>1467</th>\n",
       "      <td>1468</td>\n",
       "      <td>2015-01-06</td>\n",
       "      <td>373</td>\n",
       "      <td>0.02</td>\n",
       "    </tr>\n",
       "    <tr>\n",
       "      <th>2139</th>\n",
       "      <td>2140</td>\n",
       "      <td>2013-08-29</td>\n",
       "      <td>533</td>\n",
       "      <td>0.03</td>\n",
       "    </tr>\n",
       "    <tr>\n",
       "      <th>2923</th>\n",
       "      <td>2924</td>\n",
       "      <td>2010-05-24</td>\n",
       "      <td>717</td>\n",
       "      <td>0.03</td>\n",
       "    </tr>\n",
       "    <tr>\n",
       "      <th>152</th>\n",
       "      <td>153</td>\n",
       "      <td>2015-06-07</td>\n",
       "      <td>37</td>\n",
       "      <td>0.04</td>\n",
       "    </tr>\n",
       "    <tr>\n",
       "      <th>388</th>\n",
       "      <td>389</td>\n",
       "      <td>2013-07-09</td>\n",
       "      <td>95</td>\n",
       "      <td>0.05</td>\n",
       "    </tr>\n",
       "    <tr>\n",
       "      <th>594</th>\n",
       "      <td>595</td>\n",
       "      <td>2015-04-20</td>\n",
       "      <td>149</td>\n",
       "      <td>0.05</td>\n",
       "    </tr>\n",
       "  </tbody>\n",
       "</table>\n",
       "</div>"
      ],
      "text/plain": [
       "      TransactionID TransactionDate  CustomerID  Amount\n",
       "49               50      2012-05-12          13   -1.00\n",
       "3326           3327      2014-01-16         811   -1.00\n",
       "2175           2176      2015-03-11         544    0.01\n",
       "2511           2512      2013-02-07         636    0.01\n",
       "1467           1468      2015-01-06         373    0.02\n",
       "2139           2140      2013-08-29         533    0.03\n",
       "2923           2924      2010-05-24         717    0.03\n",
       "152             153      2015-06-07          37    0.04\n",
       "388             389      2013-07-09          95    0.05\n",
       "594             595      2015-04-20         149    0.05"
      ]
     },
     "execution_count": 160,
     "metadata": {},
     "output_type": "execute_result"
    }
   ],
   "source": [
    "df.nsmallest(10,\"Amount\")"
   ]
  },
  {
   "cell_type": "markdown",
   "metadata": {},
   "source": [
    "#### The two transactions with negative amounts seem to be an error. We should also remove these from the dataset"
   ]
  },
  {
   "cell_type": "code",
   "execution_count": 184,
   "metadata": {},
   "outputs": [],
   "source": [
    "df.drop(df[df['Amount'] > 1000].index, inplace = True)\n",
    "df.drop(df[df['Amount']<0].index,inplace=True)"
   ]
  },
  {
   "cell_type": "markdown",
   "metadata": {},
   "source": [
    "### Now, replotting the amount vs time line plot"
   ]
  },
  {
   "cell_type": "code",
   "execution_count": 139,
   "metadata": {},
   "outputs": [
    {
     "data": {
      "image/png": "[encoded data removed]",
      "text/plain": [
       "<Figure size 1080x576 with 1 Axes>"
      ]
     },
     "metadata": {
      "needs_background": "light"
     },
     "output_type": "display_data"
    }
   ],
   "source": [
    "sns.lineplot(data=df,x=\"TransactionDate\",y=\"Amount\")\n",
    "plt.gcf().set_size_inches(15, 8)"
   ]
  },
  {
   "cell_type": "markdown",
   "metadata": {},
   "source": [
    "### Again, there does not seem to be an increasing trend in the transaction value over time."
   ]
  },
  {
   "cell_type": "markdown",
   "metadata": {},
   "source": [
    "### We can also use the IQR method to detect and remove outliers in the data"
   ]
  },
  {
   "cell_type": "code",
   "execution_count": 185,
   "metadata": {},
   "outputs": [
    {
     "data": {
      "text/html": [
       "<div>\n",
       "<style scoped>\n",
       "    .dataframe tbody tr th:only-of-type {\n",
       "        vertical-align: middle;\n",
       "    }\n",
       "\n",
       "    .dataframe tbody tr th {\n",
       "        vertical-align: top;\n",
       "    }\n",
       "\n",
       "    .dataframe thead th {\n",
       "        text-align: right;\n",
       "    }\n",
       "</style>\n",
       "<table border=\"1\" class=\"dataframe\">\n",
       "  <thead>\n",
       "    <tr style=\"text-align: right;\">\n",
       "      <th></th>\n",
       "      <th>TransactionID</th>\n",
       "      <th>TransactionDate</th>\n",
       "      <th>CustomerID</th>\n",
       "      <th>Amount</th>\n",
       "      <th>TransactionYear</th>\n",
       "    </tr>\n",
       "  </thead>\n",
       "  <tbody>\n",
       "    <tr>\n",
       "      <th>54</th>\n",
       "      <td>55</td>\n",
       "      <td>2015-01-29</td>\n",
       "      <td>13</td>\n",
       "      <td>37.27</td>\n",
       "      <td>2015</td>\n",
       "    </tr>\n",
       "    <tr>\n",
       "      <th>62</th>\n",
       "      <td>63</td>\n",
       "      <td>2012-01-21</td>\n",
       "      <td>14</td>\n",
       "      <td>28.72</td>\n",
       "      <td>2012</td>\n",
       "    </tr>\n",
       "    <tr>\n",
       "      <th>136</th>\n",
       "      <td>137</td>\n",
       "      <td>2014-02-15</td>\n",
       "      <td>34</td>\n",
       "      <td>25.60</td>\n",
       "      <td>2014</td>\n",
       "    </tr>\n",
       "    <tr>\n",
       "      <th>165</th>\n",
       "      <td>166</td>\n",
       "      <td>2014-01-20</td>\n",
       "      <td>41</td>\n",
       "      <td>29.12</td>\n",
       "      <td>2014</td>\n",
       "    </tr>\n",
       "    <tr>\n",
       "      <th>263</th>\n",
       "      <td>264</td>\n",
       "      <td>2012-06-21</td>\n",
       "      <td>69</td>\n",
       "      <td>38.29</td>\n",
       "      <td>2012</td>\n",
       "    </tr>\n",
       "    <tr>\n",
       "      <th>...</th>\n",
       "      <td>...</td>\n",
       "      <td>...</td>\n",
       "      <td>...</td>\n",
       "      <td>...</td>\n",
       "      <td>...</td>\n",
       "    </tr>\n",
       "    <tr>\n",
       "      <th>3778</th>\n",
       "      <td>3779</td>\n",
       "      <td>2015-09-26</td>\n",
       "      <td>914</td>\n",
       "      <td>28.03</td>\n",
       "      <td>2015</td>\n",
       "    </tr>\n",
       "    <tr>\n",
       "      <th>3883</th>\n",
       "      <td>3884</td>\n",
       "      <td>2015-04-01</td>\n",
       "      <td>941</td>\n",
       "      <td>25.69</td>\n",
       "      <td>2015</td>\n",
       "    </tr>\n",
       "    <tr>\n",
       "      <th>3964</th>\n",
       "      <td>3965</td>\n",
       "      <td>2013-07-28</td>\n",
       "      <td>957</td>\n",
       "      <td>30.01</td>\n",
       "      <td>2013</td>\n",
       "    </tr>\n",
       "    <tr>\n",
       "      <th>3998</th>\n",
       "      <td>3999</td>\n",
       "      <td>2012-09-11</td>\n",
       "      <td>963</td>\n",
       "      <td>28.13</td>\n",
       "      <td>2012</td>\n",
       "    </tr>\n",
       "    <tr>\n",
       "      <th>4028</th>\n",
       "      <td>4029</td>\n",
       "      <td>2014-08-25</td>\n",
       "      <td>970</td>\n",
       "      <td>24.97</td>\n",
       "      <td>2014</td>\n",
       "    </tr>\n",
       "  </tbody>\n",
       "</table>\n",
       "<p>62 rows × 5 columns</p>\n",
       "</div>"
      ],
      "text/plain": [
       "      TransactionID TransactionDate  CustomerID  Amount  TransactionYear\n",
       "54               55      2015-01-29          13   37.27             2015\n",
       "62               63      2012-01-21          14   28.72             2012\n",
       "136             137      2014-02-15          34   25.60             2014\n",
       "165             166      2014-01-20          41   29.12             2014\n",
       "263             264      2012-06-21          69   38.29             2012\n",
       "...             ...             ...         ...     ...              ...\n",
       "3778           3779      2015-09-26         914   28.03             2015\n",
       "3883           3884      2015-04-01         941   25.69             2015\n",
       "3964           3965      2013-07-28         957   30.01             2013\n",
       "3998           3999      2012-09-11         963   28.13             2012\n",
       "4028           4029      2014-08-25         970   24.97             2014\n",
       "\n",
       "[62 rows x 5 columns]"
      ]
     },
     "execution_count": 185,
     "metadata": {},
     "output_type": "execute_result"
    }
   ],
   "source": [
    "Q1=df[\"Amount\"].quantile(0.25)\n",
    "Q3=df[\"Amount\"].quantile(0.75)\n",
    "IQR=Q3-Q1\n",
    "\n",
    "df[(df[\"Amount\"]<(Q1-1.5*IQR)) | (df[\"Amount\"]>(Q3+1.5*IQR))]"
   ]
  },
  {
   "cell_type": "markdown",
   "metadata": {},
   "source": [
    "### Hence, according to the IQR method, 62 transactions are considered as outliers. However, plotting their distribution gives us enough confidence in our assertion that these transactions can be retained."
   ]
  },
  {
   "cell_type": "code",
   "execution_count": 186,
   "metadata": {},
   "outputs": [
    {
     "data": {
      "text/plain": [
       "Text(0.5, 1.0, 'Distribution of Transaction Amounts')"
      ]
     },
     "execution_count": 186,
     "metadata": {},
     "output_type": "execute_result"
    },
    {
     "data": {
      "image/png": "[encoded data removed]",
      "text/plain": [
       "<Figure size 432x288 with 1 Axes>"
      ]
     },
     "metadata": {
      "needs_background": "light"
     },
     "output_type": "display_data"
    }
   ],
   "source": [
    "df[\"Amount\"].hist(bins=5).plot()\n",
    "plt.xlabel(\"Amount Value (in $)\", labelpad=20, weight='bold', size=10)\n",
    "\n",
    "plt.ylabel(\"Frequency\", labelpad=20, weight='bold', size=10)\n",
    "\n",
    "plt.title(\"Distribution of Transaction Amounts\")"
   ]
  },
  {
   "cell_type": "markdown",
   "metadata": {},
   "source": [
    "### Step 3: Determine origin year of customers"
   ]
  },
  {
   "cell_type": "code",
   "execution_count": 194,
   "metadata": {},
   "outputs": [],
   "source": [
    "Earliest_Transaction_Date=df.groupby([\"CustomerID\"])[\"TransactionDate\"].min()"
   ]
  },
  {
   "cell_type": "code",
   "execution_count": 221,
   "metadata": {},
   "outputs": [],
   "source": [
    "Earliest_Transaction_Date=Earliest_Transaction_Date.to_frame()"
   ]
  },
  {
   "cell_type": "code",
   "execution_count": 223,
   "metadata": {},
   "outputs": [],
   "source": [
    "Earliest_Transaction_Date.reset_index(inplace=True)"
   ]
  },
  {
   "cell_type": "code",
   "execution_count": 225,
   "metadata": {},
   "outputs": [],
   "source": [
    "Earliest_Transaction_Date.rename(columns={'TransactionDate': 'EarliestTransactionDate'}, inplace=True)"
   ]
  },
  {
   "cell_type": "code",
   "execution_count": 263,
   "metadata": {},
   "outputs": [],
   "source": [
    "Earliest_Transaction_Year=[]\n",
    "\n",
    "for i in range(len(df)):\n",
    "    for j in range(len(Earliest_Transaction_Date)):\n",
    "        if df[\"CustomerID\"].iloc[i]==Earliest_Transaction_Date[\"CustomerID\"].iloc[j]:\n",
    "            Earliest_Transaction_Year.append(Earliest_Transaction_Date[\"EarliestTransactionDate\"][j].year)\n",
    "            break\n",
    "\n",
    "df[\"CustomerAcquisitionYear\"]=Earliest_Transaction_Year"
   ]
  },
  {
   "cell_type": "code",
   "execution_count": 269,
   "metadata": {},
   "outputs": [],
   "source": [
    "df.drop(['CustomerAcquistionYear'], axis=1,inplace=True)"
   ]
  },
  {
   "cell_type": "code",
   "execution_count": 270,
   "metadata": {},
   "outputs": [
    {
     "data": {
      "text/html": [
       "<div>\n",
       "<style scoped>\n",
       "    .dataframe tbody tr th:only-of-type {\n",
       "        vertical-align: middle;\n",
       "    }\n",
       "\n",
       "    .dataframe tbody tr th {\n",
       "        vertical-align: top;\n",
       "    }\n",
       "\n",
       "    .dataframe thead th {\n",
       "        text-align: right;\n",
       "    }\n",
       "</style>\n",
       "<table border=\"1\" class=\"dataframe\">\n",
       "  <thead>\n",
       "    <tr style=\"text-align: right;\">\n",
       "      <th></th>\n",
       "      <th>TransactionID</th>\n",
       "      <th>TransactionDate</th>\n",
       "      <th>CustomerID</th>\n",
       "      <th>Amount</th>\n",
       "      <th>TransactionYear</th>\n",
       "      <th>CustomerAcquisitionYear</th>\n",
       "    </tr>\n",
       "  </thead>\n",
       "  <tbody>\n",
       "    <tr>\n",
       "      <th>0</th>\n",
       "      <td>1</td>\n",
       "      <td>2012-09-04</td>\n",
       "      <td>1</td>\n",
       "      <td>20.26</td>\n",
       "      <td>2012</td>\n",
       "      <td>2012</td>\n",
       "    </tr>\n",
       "    <tr>\n",
       "      <th>1</th>\n",
       "      <td>2</td>\n",
       "      <td>2012-05-15</td>\n",
       "      <td>2</td>\n",
       "      <td>10.87</td>\n",
       "      <td>2012</td>\n",
       "      <td>2012</td>\n",
       "    </tr>\n",
       "    <tr>\n",
       "      <th>2</th>\n",
       "      <td>3</td>\n",
       "      <td>2014-05-23</td>\n",
       "      <td>2</td>\n",
       "      <td>2.21</td>\n",
       "      <td>2014</td>\n",
       "      <td>2012</td>\n",
       "    </tr>\n",
       "    <tr>\n",
       "      <th>3</th>\n",
       "      <td>4</td>\n",
       "      <td>2014-10-24</td>\n",
       "      <td>2</td>\n",
       "      <td>10.48</td>\n",
       "      <td>2014</td>\n",
       "      <td>2012</td>\n",
       "    </tr>\n",
       "    <tr>\n",
       "      <th>4</th>\n",
       "      <td>5</td>\n",
       "      <td>2012-10-13</td>\n",
       "      <td>2</td>\n",
       "      <td>3.94</td>\n",
       "      <td>2012</td>\n",
       "      <td>2012</td>\n",
       "    </tr>\n",
       "  </tbody>\n",
       "</table>\n",
       "</div>"
      ],
      "text/plain": [
       "   TransactionID TransactionDate  CustomerID  Amount  TransactionYear  \\\n",
       "0              1      2012-09-04           1   20.26             2012   \n",
       "1              2      2012-05-15           2   10.87             2012   \n",
       "2              3      2014-05-23           2    2.21             2014   \n",
       "3              4      2014-10-24           2   10.48             2014   \n",
       "4              5      2012-10-13           2    3.94             2012   \n",
       "\n",
       "   CustomerAcquisitionYear  \n",
       "0                     2012  \n",
       "1                     2012  \n",
       "2                     2012  \n",
       "3                     2012  \n",
       "4                     2012  "
      ]
     },
     "execution_count": 270,
     "metadata": {},
     "output_type": "execute_result"
    }
   ],
   "source": [
    "df.head(5)"
   ]
  },
  {
   "cell_type": "markdown",
   "metadata": {},
   "source": [
    "### Step 4: Calculate cumulative transaction amounts"
   ]
  },
  {
   "cell_type": "code",
   "execution_count": 317,
   "metadata": {},
   "outputs": [
    {
     "name": "stdout",
     "output_type": "stream",
     "text": [
      "\u001b[1mOrigin_Year     12             24            36            48           60           72\u001b[0m\n",
      "\u001b[1m2010\u001b[0m          2259.67       3614.78       5274.81       6632.37       7930.69       8964.49       \n",
      "\n",
      "\u001b[1m2011\u001b[0m          2238.46       3757.90       5465.99       6703.11       7862.24       \n",
      "\n",
      "\u001b[1m2012\u001b[0m          2181.35       3874.69       5226.86       6501.85       \n",
      "\n",
      "\u001b[1m2013\u001b[0m          2179.85       3609.81       5227.75       \n",
      "\n",
      "\u001b[1m2014\u001b[0m          1830.85       3262.05       \n",
      "\n",
      "\u001b[1m2015\u001b[0m          1912.17       "
     ]
    }
   ],
   "source": [
    "Origin_2010_Cum_Amounts=[]\n",
    "\n",
    "Origin_2010_Cum_Amounts.append(df[(df[\"TransactionDate\"]>=datetime.date(2010,1,1)) & (df[\"TransactionDate\"]<=datetime.date(2010,12,31))][\"Amount\"].sum())\n",
    "Origin_2010_Cum_Amounts.append(df[(df[\"CustomerAcquisitionYear\"]==2010) & (df[\"TransactionDate\"]>=datetime.date(2010,1,1)) & (df[\"TransactionDate\"]<=datetime.date(2011,12,31))][\"Amount\"].sum())\n",
    "Origin_2010_Cum_Amounts.append(df[(df[\"CustomerAcquisitionYear\"]==2010) & (df[\"TransactionDate\"]>=datetime.date(2010,1,1)) & (df[\"TransactionDate\"]<=datetime.date(2012,12,31))][\"Amount\"].sum())\n",
    "Origin_2010_Cum_Amounts.append(df[(df[\"CustomerAcquisitionYear\"]==2010) & (df[\"TransactionDate\"]>=datetime.date(2010,1,1)) & (df[\"TransactionDate\"]<=datetime.date(2013,12,31))][\"Amount\"].sum())\n",
    "Origin_2010_Cum_Amounts.append(df[(df[\"CustomerAcquisitionYear\"]==2010) & (df[\"TransactionDate\"]>=datetime.date(2010,1,1)) & (df[\"TransactionDate\"]<=datetime.date(2014,12,31))][\"Amount\"].sum())\n",
    "Origin_2010_Cum_Amounts.append(df[(df[\"CustomerAcquisitionYear\"]==2010) & (df[\"TransactionDate\"]>=datetime.date(2010,1,1)) & (df[\"TransactionDate\"]<=datetime.date(2015,12,31))][\"Amount\"].sum())\n",
    "\n",
    "Origin_2011_Cum_Amounts=[]\n",
    "\n",
    "Origin_2011_Cum_Amounts.append(df[(df[\"CustomerAcquisitionYear\"]==2011) & (df[\"TransactionDate\"]>=datetime.date(2011,1,1)) & (df[\"TransactionDate\"]<=datetime.date(2011,12,31))][\"Amount\"].sum())\n",
    "Origin_2011_Cum_Amounts.append(df[(df[\"CustomerAcquisitionYear\"]==2011) & (df[\"TransactionDate\"]>=datetime.date(2011,1,1)) & (df[\"TransactionDate\"]<=datetime.date(2012,12,31))][\"Amount\"].sum())\n",
    "Origin_2011_Cum_Amounts.append(df[(df[\"CustomerAcquisitionYear\"]==2011) & (df[\"TransactionDate\"]>=datetime.date(2011,1,1)) & (df[\"TransactionDate\"]<=datetime.date(2013,12,31))][\"Amount\"].sum())\n",
    "Origin_2011_Cum_Amounts.append(df[(df[\"CustomerAcquisitionYear\"]==2011) & (df[\"TransactionDate\"]>=datetime.date(2011,1,1)) & (df[\"TransactionDate\"]<=datetime.date(2014,12,31))][\"Amount\"].sum())\n",
    "Origin_2011_Cum_Amounts.append(df[(df[\"CustomerAcquisitionYear\"]==2011) & (df[\"TransactionDate\"]>=datetime.date(2011,1,1)) & (df[\"TransactionDate\"]<=datetime.date(2015,12,31))][\"Amount\"].sum())\n",
    "\n",
    "Origin_2012_Cum_Amounts=[]\n",
    "\n",
    "Origin_2012_Cum_Amounts.append(df[(df[\"CustomerAcquisitionYear\"]==2012) & (df[\"TransactionDate\"]>=datetime.date(2012,1,1)) & (df[\"TransactionDate\"]<=datetime.date(2012,12,31))][\"Amount\"].sum())\n",
    "Origin_2012_Cum_Amounts.append(df[(df[\"CustomerAcquisitionYear\"]==2012) & (df[\"TransactionDate\"]>=datetime.date(2012,1,1)) & (df[\"TransactionDate\"]<=datetime.date(2013,12,31))][\"Amount\"].sum())\n",
    "Origin_2012_Cum_Amounts.append(df[(df[\"CustomerAcquisitionYear\"]==2012) & (df[\"TransactionDate\"]>=datetime.date(2012,1,1)) & (df[\"TransactionDate\"]<=datetime.date(2014,12,31))][\"Amount\"].sum())\n",
    "Origin_2012_Cum_Amounts.append(df[(df[\"CustomerAcquisitionYear\"]==2012) & (df[\"TransactionDate\"]>=datetime.date(2012,1,1)) & (df[\"TransactionDate\"]<=datetime.date(2015,12,31))][\"Amount\"].sum())\n",
    "\n",
    "Origin_2013_Cum_Amounts=[]\n",
    "\n",
    "Origin_2013_Cum_Amounts.append(df[(df[\"CustomerAcquisitionYear\"]==2013) & (df[\"TransactionDate\"]>=datetime.date(2013,1,1)) & (df[\"TransactionDate\"]<=datetime.date(2013,12,31))][\"Amount\"].sum())\n",
    "Origin_2013_Cum_Amounts.append(df[(df[\"CustomerAcquisitionYear\"]==2013) & (df[\"TransactionDate\"]>=datetime.date(2013,1,1)) & (df[\"TransactionDate\"]<=datetime.date(2014,12,31))][\"Amount\"].sum())\n",
    "Origin_2013_Cum_Amounts.append(df[(df[\"CustomerAcquisitionYear\"]==2013) & (df[\"TransactionDate\"]>=datetime.date(2013,1,1)) & (df[\"TransactionDate\"]<=datetime.date(2015,12,31))][\"Amount\"].sum())\n",
    "\n",
    "Origin_2014_Cum_Amounts=[]\n",
    "\n",
    "Origin_2014_Cum_Amounts.append(df[(df[\"CustomerAcquisitionYear\"]==2014) & (df[\"TransactionDate\"]>=datetime.date(2013,1,1)) & (df[\"TransactionDate\"]<=datetime.date(2014,12,31))][\"Amount\"].sum())\n",
    "Origin_2014_Cum_Amounts.append(df[(df[\"CustomerAcquisitionYear\"]==2014) & (df[\"TransactionDate\"]>=datetime.date(2013,1,1)) & (df[\"TransactionDate\"]<=datetime.date(2015,12,31))][\"Amount\"].sum())\n",
    "\n",
    "Origin_2015_Cum_Amounts=[]\n",
    "\n",
    "Origin_2015_Cum_Amounts.append(df[(df[\"CustomerAcquisitionYear\"]==2015) & (df[\"TransactionDate\"]>=datetime.date(2015,1,1)) & (df[\"TransactionDate\"]<=datetime.date(2015,12,31))][\"Amount\"].sum())\n",
    "\n",
    "print('\\033[1m' + \"Origin_Year    \", \"12            \", \"24           \",\"36           \",\"48          \",\"60          \"  ,\"72\" + '\\033[0m')\n",
    "\n",
    "\n",
    "print('\\033[1m' + \"2010\" + '\\033[0m',end=\"          \")\n",
    "for value in Origin_2010_Cum_Amounts:\n",
    "    print(\"{:.2f}\".format(value), end='       ')\n",
    "\n",
    "print(\"\\n\")\n",
    "    \n",
    "print('\\033[1m' + \"2011\" + '\\033[0m',end=\"          \")\n",
    "for value in Origin_2011_Cum_Amounts:\n",
    "    print(\"{:.2f}\".format(value), end='       ')\n",
    "    \n",
    "print(\"\\n\")\n",
    "\n",
    "print('\\033[1m' + \"2012\" + '\\033[0m',end=\"          \")\n",
    "for value in Origin_2012_Cum_Amounts:\n",
    "    print(\"{:.2f}\".format(value), end='       ')\n",
    "    \n",
    "print(\"\\n\")\n",
    "\n",
    "print('\\033[1m' + \"2013\" + '\\033[0m',end=\"          \")\n",
    "for value in Origin_2013_Cum_Amounts:\n",
    "    print(\"{:.2f}\".format(value), end='       ')\n",
    "    \n",
    "print(\"\\n\")\n",
    "\n",
    "print('\\033[1m' + \"2014\" + '\\033[0m',end=\"          \")\n",
    "for value in Origin_2014_Cum_Amounts:\n",
    "    print(\"{:.2f}\".format(value), end='       ')\n",
    "    \n",
    "print(\"\\n\")\n",
    "\n",
    "print('\\033[1m' + \"2015\" + '\\033[0m',end=\"          \")\n",
    "for value in Origin_2015_Cum_Amounts:\n",
    "    print(\"{:.2f}\".format(value), end='       ')"
   ]
  },
  {
   "cell_type": "markdown",
   "metadata": {},
   "source": [
    "## Step 5:  Calculate cumulative transaction amounts"
   ]
  },
  {
   "cell_type": "code",
   "execution_count": 314,
   "metadata": {},
   "outputs": [
    {
     "data": {
      "text/plain": [
       "172"
      ]
     },
     "execution_count": 314,
     "metadata": {},
     "output_type": "execute_result"
    }
   ],
   "source": [
    "len(df[df[\"CustomerAcquisitionYear\"]==2010][\"CustomerID\"].unique())"
   ]
  },
  {
   "cell_type": "code",
   "execution_count": 331,
   "metadata": {},
   "outputs": [
    {
     "name": "stdout",
     "output_type": "stream",
     "text": [
      "\u001b[1mOrigin_Year    12        24        36        48        60        72\u001b[0m\n",
      "\u001b[1m2010\u001b[0m           172       172       172       172       172       172       \n",
      "\n",
      "\u001b[1m2011\u001b[0m           170       170       170       170       170       \n",
      "\n",
      "\u001b[1m2012\u001b[0m           163       163       163       163       \n",
      "\n",
      "\u001b[1m2013\u001b[0m           180       180       180       \n",
      "\n",
      "\u001b[1m2014\u001b[0m           155       155       \n",
      "\n",
      "\u001b[1m2015\u001b[0m           160       "
     ]
    }
   ],
   "source": [
    "Origin_2010_New_Cust=[]\n",
    "\n",
    "for i in range(6):\n",
    "    Origin_2010_New_Cust.append(len(df[df[\"CustomerAcquisitionYear\"]==2010][\"CustomerID\"].unique()))\n",
    "    \n",
    "Origin_2011_New_Cust=[]\n",
    "for i in range(5):\n",
    "    Origin_2011_New_Cust.append(len(df[df[\"CustomerAcquisitionYear\"]==2011][\"CustomerID\"].unique()))\n",
    "    \n",
    "Origin_2012_New_Cust=[]\n",
    "for i in range(4):\n",
    "    Origin_2012_New_Cust.append(len(df[df[\"CustomerAcquisitionYear\"]==2012][\"CustomerID\"].unique()))\n",
    "    \n",
    "Origin_2013_New_Cust=[]\n",
    "for i in range(3):\n",
    "    Origin_2013_New_Cust.append(len(df[df[\"CustomerAcquisitionYear\"]==2013][\"CustomerID\"].unique()))\n",
    "    \n",
    "Origin_2014_New_Cust=[]\n",
    "for i in range(2):\n",
    "    Origin_2014_New_Cust.append(len(df[df[\"CustomerAcquisitionYear\"]==2014][\"CustomerID\"].unique()))\n",
    "    \n",
    "Origin_2015_New_Cust=[]\n",
    "Origin_2015_New_Cust.append(len(df[df[\"CustomerAcquisitionYear\"]==2015][\"CustomerID\"].unique()))\n",
    "\n",
    "\n",
    "\n",
    "print('\\033[1m' + \"Origin_Year   \", \"12       \", \"24       \",\"36       \",\"48       \",\"60       \"  ,\"72\" + '\\033[0m')\n",
    "\n",
    "\n",
    "print('\\033[1m' + \"2010\" + '\\033[0m',end=\"           \")\n",
    "for value in Origin_2010_New_Cust:\n",
    "    print(value, end='       ')\n",
    "\n",
    "print(\"\\n\")\n",
    "    \n",
    "print('\\033[1m' + \"2011\" + '\\033[0m',end=\"           \")\n",
    "for value in Origin_2011_New_Cust:\n",
    "    print(value, end='       ')\n",
    "    \n",
    "print(\"\\n\")\n",
    "\n",
    "print('\\033[1m' + \"2012\" + '\\033[0m',end=\"           \")\n",
    "for value in Origin_2012_New_Cust:\n",
    "    print(value, end='       ')\n",
    "    \n",
    "print(\"\\n\")\n",
    "\n",
    "print('\\033[1m' + \"2013\" + '\\033[0m',end=\"           \")\n",
    "for value in Origin_2013_New_Cust:\n",
    "    print(value, end='       ')\n",
    "    \n",
    "print(\"\\n\")\n",
    "\n",
    "print('\\033[1m' + \"2014\" + '\\033[0m',end=\"           \")\n",
    "for value in Origin_2014_New_Cust:\n",
    "    print(value, end='       ')\n",
    "    \n",
    "print(\"\\n\")\n",
    "\n",
    "print('\\033[1m' + \"2015\" + '\\033[0m',end=\"           \")\n",
    "for value in Origin_2015_New_Cust:\n",
    "    print(value, end='       ')"
   ]
  },
  {
   "cell_type": "markdown",
   "metadata": {},
   "source": [
    "## Step 6: Historic CLV"
   ]
  },
  {
   "cell_type": "code",
   "execution_count": 335,
   "metadata": {},
   "outputs": [
    {
     "name": "stdout",
     "output_type": "stream",
     "text": [
      "\u001b[1mOrigin_Year     12          24          36          48         60          72\u001b[0m\n",
      "\u001b[1m2010\u001b[0m          13.14       21.02       30.67       38.56       46.11       52.12       \n",
      "\n",
      "\u001b[1m2011\u001b[0m          13.17       22.11       32.15       39.43       46.25       \n",
      "\n",
      "\u001b[1m2012\u001b[0m          13.38       23.77       32.07       39.89       \n",
      "\n",
      "\u001b[1m2013\u001b[0m          12.11       20.05       29.04       \n",
      "\n",
      "\u001b[1m2014\u001b[0m          11.81       21.05       \n",
      "\n",
      "\u001b[1m2015\u001b[0m          11.95       "
     ]
    }
   ],
   "source": [
    "Historic_CLV_2010=[]\n",
    "\n",
    "for i in range(len(Origin_2010_Cum_Amounts)):\n",
    "    Historic_CLV_2010.append(Origin_2010_Cum_Amounts[i]/Origin_2010_New_Cust[i])\n",
    "\n",
    "Historic_CLV_2011=[]\n",
    "\n",
    "for i in range(len(Origin_2011_Cum_Amounts)):\n",
    "    Historic_CLV_2011.append(Origin_2011_Cum_Amounts[i]/Origin_2011_New_Cust[i])\n",
    "    \n",
    "Historic_CLV_2012=[]\n",
    "\n",
    "for i in range(len(Origin_2012_Cum_Amounts)):\n",
    "    Historic_CLV_2012.append(Origin_2012_Cum_Amounts[i]/Origin_2012_New_Cust[i])\n",
    "    \n",
    "Historic_CLV_2013=[]\n",
    "\n",
    "for i in range(len(Origin_2013_Cum_Amounts)):\n",
    "    Historic_CLV_2013.append(Origin_2013_Cum_Amounts[i]/Origin_2013_New_Cust[i])\n",
    "\n",
    "Historic_CLV_2014=[]\n",
    "\n",
    "for i in range(len(Origin_2014_Cum_Amounts)):\n",
    "    Historic_CLV_2014.append(Origin_2014_Cum_Amounts[i]/Origin_2014_New_Cust[i])\n",
    "    \n",
    "Historic_CLV_2015=[]\n",
    "\n",
    "for i in range(len(Origin_2015_Cum_Amounts)):\n",
    "    Historic_CLV_2015.append(Origin_2015_Cum_Amounts[i]/Origin_2015_New_Cust[i])\n",
    "    \n",
    "print('\\033[1m' + \"Origin_Year    \", \"12         \", \"24         \",\"36         \",\"48        \",\"60         \"  ,\"72\" + '\\033[0m')\n",
    "\n",
    "\n",
    "print('\\033[1m' + \"2010\" + '\\033[0m',end=\"          \")\n",
    "for value in Historic_CLV_2010:\n",
    "    print(\"{:.2f}\".format(value), end='       ')\n",
    "\n",
    "print(\"\\n\")\n",
    "    \n",
    "print('\\033[1m' + \"2011\" + '\\033[0m',end=\"          \")\n",
    "for value in Historic_CLV_2011:\n",
    "    print(\"{:.2f}\".format(value), end='       ')\n",
    "    \n",
    "print(\"\\n\")\n",
    "\n",
    "print('\\033[1m' + \"2012\" + '\\033[0m',end=\"          \")\n",
    "for value in Historic_CLV_2012:\n",
    "    print(\"{:.2f}\".format(value), end='       ')\n",
    "    \n",
    "print(\"\\n\")\n",
    "\n",
    "print('\\033[1m' + \"2013\" + '\\033[0m',end=\"          \")\n",
    "for value in Historic_CLV_2013:\n",
    "    print(\"{:.2f}\".format(value), end='       ')\n",
    "    \n",
    "print(\"\\n\")\n",
    "\n",
    "print('\\033[1m' + \"2014\" + '\\033[0m',end=\"          \")\n",
    "for value in Historic_CLV_2014:\n",
    "    print(\"{:.2f}\".format(value), end='       ')\n",
    "    \n",
    "print(\"\\n\")\n",
    "\n",
    "print('\\033[1m' + \"2015\" + '\\033[0m',end=\"          \")\n",
    "for value in Historic_CLV_2015:\n",
    "    print(\"{:.2f}\".format(value), end='       ')"
   ]
  },
  {
   "cell_type": "code",
   "execution_count": 364,
   "metadata": {},
   "outputs": [
    {
     "data": {
      "image/png": "[encoded data removed]",
      "text/plain": [
       "<Figure size 720x504 with 1 Axes>"
      ]
     },
     "metadata": {},
     "output_type": "display_data"
    }
   ],
   "source": [
    "plt.plot(Historic_CLV_2010,marker='o',label='Origin Year: 2010')\n",
    "plt.plot(Historic_CLV_2011,marker='o',label='Origin Year: 2011')\n",
    "plt.plot(Historic_CLV_2012,marker='o',label='Origin Year: 2012')\n",
    "plt.plot(Historic_CLV_2013,marker='o',label='Origin Year: 2013')\n",
    "plt.plot(Historic_CLV_2014,marker='o',label='Origin Year: 2014')\n",
    "plt.plot(Historic_CLV_2015,marker='o',label='Origin Year: 2015')\n",
    "\n",
    "x = [12, 24, 36, 48, 60, 72]\n",
    "default_x_ticks = range(len(x))\n",
    "plt.xticks(default_x_ticks, x)\n",
    "\n",
    "plt.xlabel(\"Age\")\n",
    "plt.ylabel(\"HistoricalCLV\")\n",
    "plt.legend()\n",
    "\n",
    "plt.gcf().set_size_inches(10, 7)"
   ]
  },
  {
   "cell_type": "code",
   "execution_count": 398,
   "metadata": {},
   "outputs": [],
   "source": [
    "weighted_HCLV_12=(Historic_CLV_2010[0]*Origin_2010_New_Cust[0] + Historic_CLV_2011[0]*Origin_2011_New_Cust[0] + Historic_CLV_2012[0]*Origin_2012_New_Cust[0] + Historic_CLV_2013[0]*Origin_2013_New_Cust[0] + Historic_CLV_2014[0]*Origin_2014_New_Cust[0] + Historic_CLV_2015[0]*Origin_2015_New_Cust[0])/(Origin_2010_New_Cust[0] + Origin_2011_New_Cust[0] + Origin_2012_New_Cust[0]+ Origin_2013_New_Cust[0] + Origin_2014_New_Cust[0] + Origin_2015_New_Cust[0])\n",
    "weighted_HCLV_24=(Historic_CLV_2010[1]*Origin_2010_New_Cust[1] + Historic_CLV_2011[1]*Origin_2011_New_Cust[1] + Historic_CLV_2012[1]*Origin_2012_New_Cust[1] + Historic_CLV_2013[1]*Origin_2013_New_Cust[1] + Historic_CLV_2014[1]*Origin_2014_New_Cust[1])/(Origin_2010_New_Cust[1] + Origin_2011_New_Cust[1] + Origin_2012_New_Cust[1]+ Origin_2013_New_Cust[1] + Origin_2014_New_Cust[1])\n",
    "weighted_HCLV_36=(Historic_CLV_2010[2]*Origin_2010_New_Cust[2] + Historic_CLV_2011[2]*Origin_2011_New_Cust[2] + Historic_CLV_2012[2]*Origin_2012_New_Cust[2] + Historic_CLV_2013[2]*Origin_2013_New_Cust[2])/(Origin_2010_New_Cust[2] + Origin_2011_New_Cust[2] + Origin_2012_New_Cust[2]+ Origin_2013_New_Cust[2])\n",
    "weighted_HCLV_48=(Historic_CLV_2010[3]*Origin_2010_New_Cust[3] + Historic_CLV_2011[3]*Origin_2011_New_Cust[3] + Historic_CLV_2012[3]*Origin_2012_New_Cust[3])/(Origin_2010_New_Cust[3] + Origin_2011_New_Cust[3] + Origin_2012_New_Cust[3])\n",
    "weighted_HCLV_60=(Historic_CLV_2010[4]*Origin_2010_New_Cust[4] + Historic_CLV_2011[4]*Origin_2011_New_Cust[4])/(Origin_2010_New_Cust[4] + Origin_2011_New_Cust[4])\n",
    "weighted_HCLV_72=(Historic_CLV_2010[5]*Origin_2010_New_Cust[5])/(Origin_2010_New_Cust[5])"
   ]
  },
  {
   "cell_type": "code",
   "execution_count": 399,
   "metadata": {},
   "outputs": [
    {
     "name": "stdout",
     "output_type": "stream",
     "text": [
      "\u001b[1mAge  \u001b[0m   \u001b[1mHistoricCLV\u001b[0m\n",
      "12       12.60\n",
      "24       21.57\n",
      "36       30.94\n",
      "48       39.28\n",
      "60       46.18\n",
      "72       52.12\n"
     ]
    }
   ],
   "source": [
    "print('\\033[1m' + \"Age  \" + '\\033[0m' , \"  \" +'\\033[1m' + \"HistoricCLV\" + '\\033[0m')\n",
    "print(\"12      \",\"{:.2f}\".format(weighted_HCLV_12))\n",
    "print(\"24      \", \"{:.2f}\".format(weighted_HCLV_24))\n",
    "print(\"36      \", \"{:.2f}\".format(weighted_HCLV_36))\n",
    "print(\"48      \",\"{:.2f}\".format(weighted_HCLV_48))\n",
    "print(\"60      \", \"{:.2f}\".format(weighted_HCLV_60))\n",
    "print(\"72      \", \"{:.2f}\".format(weighted_HCLV_72))"
   ]
  },
  {
   "cell_type": "markdown",
   "metadata": {},
   "source": [
    "## Step 7: Interpreting Results"
   ]
  },
  {
   "cell_type": "markdown",
   "metadata": {},
   "source": [
    "### How much have customers acquired in 2011 spent to date? "
   ]
  },
  {
   "cell_type": "markdown",
   "metadata": {},
   "source": [
    "Customers acquired in 2011 have been active for 60 months (5 years) now. Referring to the table computed in Step 4, we can infer that cumulatively, they have spent approx. 7,862 USD to date. Individually, customers acquired in 2011 have spent $46.25 (per customer) to date."
   ]
  },
  {
   "cell_type": "markdown",
   "metadata": {},
   "source": [
    "### Do each group of customers exhibit similar or different patterns of spending? What’s the implication for the business?"
   ]
  },
  {
   "cell_type": "raw",
   "metadata": {},
   "source": [
    "We can infer from the Historical CLV that Customers acquired in 2010 have spent ~$52.12 till date. \n",
    "\n",
    "The average spending per customer in the first 12 months has slightly decreased from $13.11 (per customer) for customers acquired in 2010 to just $11.95 (per customer) for customers acquired in 2015. Essentially, the newly acquired customers (brand new customers), on average, are spending marginally less in the first 12 months compared to customers that were acquired 5 years ago. Although the difference is not huge, the business can look into why the average spending in the first 12 months is not increasing by much."
   ]
  },
  {
   "cell_type": "raw",
   "metadata": {},
   "source": [
    "Also, each group of customers appears to exhibit a very similar pattern of spending. For example, 48 months after acquisition, customers acquired in 2010, 2011, 2012 ALL have spent approx. $39. A similar trend can be observed for other ages (24 or 36 months). Hence, we can say to a good degree of confidence that each custmer group exhibits a similar pattern of spending. \n",
    "\n",
    "The implication for the business here is that they can assume with confidence that $52.12 is a decent lower bound on the CLV. (Assuming lifetime of the customer to be 5 years)."
   ]
  }
 ],
 "metadata": {
  "kernelspec": {
   "display_name": "Python 3",
   "language": "python",
   "name": "python3"
  },
  "language_info": {
   "codemirror_mode": {
    "name": "ipython",
    "version": 3
   },
   "file_extension": ".py",
   "mimetype": "text/x-python",
   "name": "python",
   "nbconvert_exporter": "python",
   "pygments_lexer": "ipython3",
   "version": "3.8.5"
  }
 },
 "nbformat": 4,
 "nbformat_minor": 4
}
